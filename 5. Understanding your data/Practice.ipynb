{
 "cells": [
  {
   "cell_type": "code",
   "execution_count": 1,
   "metadata": {},
   "outputs": [],
   "source": [
    "import pandas as pd\n",
    "df = pd.read_csv('air-pollution-2019.csv')"
   ]
  },
  {
   "cell_type": "code",
   "execution_count": 2,
   "metadata": {},
   "outputs": [
    {
     "data": {
      "text/plain": [
       "(216, 8)"
      ]
     },
     "execution_count": 2,
     "metadata": {},
     "output_type": "execute_result"
    }
   ],
   "source": [
    "df.shape"
   ]
  },
  {
   "cell_type": "code",
   "execution_count": 3,
   "metadata": {},
   "outputs": [
    {
     "data": {
      "text/html": [
       "<div>\n",
       "<style scoped>\n",
       "    .dataframe tbody tr th:only-of-type {\n",
       "        vertical-align: middle;\n",
       "    }\n",
       "\n",
       "    .dataframe tbody tr th {\n",
       "        vertical-align: top;\n",
       "    }\n",
       "\n",
       "    .dataframe thead th {\n",
       "        text-align: right;\n",
       "    }\n",
       "</style>\n",
       "<table border=\"1\" class=\"dataframe\">\n",
       "  <thead>\n",
       "    <tr style=\"text-align: right;\">\n",
       "      <th></th>\n",
       "      <th>Country</th>\n",
       "      <th>Nitrogen Oxide</th>\n",
       "      <th>Sulphur Dioxide</th>\n",
       "      <th>Carbon Monoxide</th>\n",
       "      <th>Organic Carbon</th>\n",
       "      <th>NMVOCs</th>\n",
       "      <th>Black Carbon</th>\n",
       "      <th>Ammonia</th>\n",
       "    </tr>\n",
       "  </thead>\n",
       "  <tbody>\n",
       "    <tr>\n",
       "      <th>48</th>\n",
       "      <td>Cuba</td>\n",
       "      <td>146872.42</td>\n",
       "      <td>326469.80</td>\n",
       "      <td>531629.98</td>\n",
       "      <td>13410.43</td>\n",
       "      <td>157097.10</td>\n",
       "      <td>5428.40</td>\n",
       "      <td>81209.65</td>\n",
       "    </tr>\n",
       "    <tr>\n",
       "      <th>168</th>\n",
       "      <td>Samoa</td>\n",
       "      <td>1480.91</td>\n",
       "      <td>1794.54</td>\n",
       "      <td>4851.74</td>\n",
       "      <td>278.31</td>\n",
       "      <td>1727.68</td>\n",
       "      <td>101.79</td>\n",
       "      <td>2047.35</td>\n",
       "    </tr>\n",
       "    <tr>\n",
       "      <th>111</th>\n",
       "      <td>Liberia</td>\n",
       "      <td>18523.37</td>\n",
       "      <td>4889.24</td>\n",
       "      <td>672822.09</td>\n",
       "      <td>10492.32</td>\n",
       "      <td>149397.15</td>\n",
       "      <td>3997.89</td>\n",
       "      <td>32920.95</td>\n",
       "    </tr>\n",
       "    <tr>\n",
       "      <th>78</th>\n",
       "      <td>Greece</td>\n",
       "      <td>183613.13</td>\n",
       "      <td>108208.65</td>\n",
       "      <td>279725.78</td>\n",
       "      <td>6202.27</td>\n",
       "      <td>162327.84</td>\n",
       "      <td>2406.02</td>\n",
       "      <td>64925.62</td>\n",
       "    </tr>\n",
       "    <tr>\n",
       "      <th>169</th>\n",
       "      <td>Sao Tome and Principe</td>\n",
       "      <td>1830.80</td>\n",
       "      <td>508.72</td>\n",
       "      <td>14662.49</td>\n",
       "      <td>653.18</td>\n",
       "      <td>3912.67</td>\n",
       "      <td>243.12</td>\n",
       "      <td>1027.69</td>\n",
       "    </tr>\n",
       "  </tbody>\n",
       "</table>\n",
       "</div>"
      ],
      "text/plain": [
       "                   Country  Nitrogen Oxide  Sulphur Dioxide  Carbon Monoxide  \\\n",
       "48                    Cuba       146872.42        326469.80        531629.98   \n",
       "168                  Samoa         1480.91          1794.54          4851.74   \n",
       "111                Liberia        18523.37          4889.24        672822.09   \n",
       "78                  Greece       183613.13        108208.65        279725.78   \n",
       "169  Sao Tome and Principe         1830.80           508.72         14662.49   \n",
       "\n",
       "     Organic Carbon     NMVOCs  Black Carbon   Ammonia  \n",
       "48         13410.43  157097.10       5428.40  81209.65  \n",
       "168          278.31    1727.68        101.79   2047.35  \n",
       "111        10492.32  149397.15       3997.89  32920.95  \n",
       "78          6202.27  162327.84       2406.02  64925.62  \n",
       "169          653.18    3912.67        243.12   1027.69  "
      ]
     },
     "execution_count": 3,
     "metadata": {},
     "output_type": "execute_result"
    }
   ],
   "source": [
    "df.sample(5)"
   ]
  },
  {
   "cell_type": "code",
   "execution_count": 4,
   "metadata": {},
   "outputs": [
    {
     "name": "stdout",
     "output_type": "stream",
     "text": [
      "<class 'pandas.core.frame.DataFrame'>\n",
      "RangeIndex: 216 entries, 0 to 215\n",
      "Data columns (total 8 columns):\n",
      " #   Column           Non-Null Count  Dtype  \n",
      "---  ------           --------------  -----  \n",
      " 0   Country          216 non-null    object \n",
      " 1   Nitrogen Oxide   216 non-null    float64\n",
      " 2   Sulphur Dioxide  216 non-null    float64\n",
      " 3   Carbon Monoxide  216 non-null    float64\n",
      " 4   Organic Carbon   216 non-null    float64\n",
      " 5   NMVOCs           216 non-null    float64\n",
      " 6   Black Carbon     216 non-null    float64\n",
      " 7   Ammonia          216 non-null    float64\n",
      "dtypes: float64(7), object(1)\n",
      "memory usage: 13.6+ KB\n"
     ]
    }
   ],
   "source": [
    "df.info()"
   ]
  },
  {
   "cell_type": "code",
   "execution_count": 5,
   "metadata": {},
   "outputs": [
    {
     "data": {
      "text/plain": [
       "Country            0\n",
       "Nitrogen Oxide     0\n",
       "Sulphur Dioxide    0\n",
       "Carbon Monoxide    0\n",
       "Organic Carbon     0\n",
       "NMVOCs             0\n",
       "Black Carbon       0\n",
       "Ammonia            0\n",
       "dtype: int64"
      ]
     },
     "execution_count": 5,
     "metadata": {},
     "output_type": "execute_result"
    }
   ],
   "source": [
    "df.isnull().sum()"
   ]
  },
  {
   "cell_type": "code",
   "execution_count": 6,
   "metadata": {},
   "outputs": [
    {
     "data": {
      "text/html": [
       "<div>\n",
       "<style scoped>\n",
       "    .dataframe tbody tr th:only-of-type {\n",
       "        vertical-align: middle;\n",
       "    }\n",
       "\n",
       "    .dataframe tbody tr th {\n",
       "        vertical-align: top;\n",
       "    }\n",
       "\n",
       "    .dataframe thead th {\n",
       "        text-align: right;\n",
       "    }\n",
       "</style>\n",
       "<table border=\"1\" class=\"dataframe\">\n",
       "  <thead>\n",
       "    <tr style=\"text-align: right;\">\n",
       "      <th></th>\n",
       "      <th>Nitrogen Oxide</th>\n",
       "      <th>Sulphur Dioxide</th>\n",
       "      <th>Carbon Monoxide</th>\n",
       "      <th>Organic Carbon</th>\n",
       "      <th>NMVOCs</th>\n",
       "      <th>Black Carbon</th>\n",
       "      <th>Ammonia</th>\n",
       "    </tr>\n",
       "  </thead>\n",
       "  <tbody>\n",
       "    <tr>\n",
       "      <th>count</th>\n",
       "      <td>2.160000e+02</td>\n",
       "      <td>2.160000e+02</td>\n",
       "      <td>2.160000e+02</td>\n",
       "      <td>2.160000e+02</td>\n",
       "      <td>2.160000e+02</td>\n",
       "      <td>2.160000e+02</td>\n",
       "      <td>2.160000e+02</td>\n",
       "    </tr>\n",
       "    <tr>\n",
       "      <th>mean</th>\n",
       "      <td>9.069873e+05</td>\n",
       "      <td>6.696511e+05</td>\n",
       "      <td>4.895853e+06</td>\n",
       "      <td>1.258415e+05</td>\n",
       "      <td>1.333006e+06</td>\n",
       "      <td>5.331899e+04</td>\n",
       "      <td>5.725171e+05</td>\n",
       "    </tr>\n",
       "    <tr>\n",
       "      <th>std</th>\n",
       "      <td>6.828572e+06</td>\n",
       "      <td>4.999599e+06</td>\n",
       "      <td>3.742196e+07</td>\n",
       "      <td>9.484717e+05</td>\n",
       "      <td>9.998156e+06</td>\n",
       "      <td>4.030076e+05</td>\n",
       "      <td>4.315137e+06</td>\n",
       "    </tr>\n",
       "    <tr>\n",
       "      <th>min</th>\n",
       "      <td>0.000000e+00</td>\n",
       "      <td>0.000000e+00</td>\n",
       "      <td>0.000000e+00</td>\n",
       "      <td>0.000000e+00</td>\n",
       "      <td>0.000000e+00</td>\n",
       "      <td>0.000000e+00</td>\n",
       "      <td>0.000000e+00</td>\n",
       "    </tr>\n",
       "    <tr>\n",
       "      <th>25%</th>\n",
       "      <td>1.523491e+04</td>\n",
       "      <td>4.517545e+03</td>\n",
       "      <td>5.066339e+04</td>\n",
       "      <td>1.801762e+03</td>\n",
       "      <td>1.758664e+04</td>\n",
       "      <td>7.112250e+02</td>\n",
       "      <td>5.187023e+03</td>\n",
       "    </tr>\n",
       "    <tr>\n",
       "      <th>50%</th>\n",
       "      <td>6.704483e+04</td>\n",
       "      <td>2.961589e+04</td>\n",
       "      <td>3.800947e+05</td>\n",
       "      <td>1.231189e+04</td>\n",
       "      <td>1.331852e+05</td>\n",
       "      <td>4.851995e+03</td>\n",
       "      <td>4.793419e+04</td>\n",
       "    </tr>\n",
       "    <tr>\n",
       "      <th>75%</th>\n",
       "      <td>2.065798e+05</td>\n",
       "      <td>1.412795e+05</td>\n",
       "      <td>1.498568e+06</td>\n",
       "      <td>4.229607e+04</td>\n",
       "      <td>5.005394e+05</td>\n",
       "      <td>1.808434e+04</td>\n",
       "      <td>1.606073e+05</td>\n",
       "    </tr>\n",
       "    <tr>\n",
       "      <th>max</th>\n",
       "      <td>9.720728e+07</td>\n",
       "      <td>7.165716e+07</td>\n",
       "      <td>5.272669e+08</td>\n",
       "      <td>1.356807e+07</td>\n",
       "      <td>1.433979e+08</td>\n",
       "      <td>5.741293e+06</td>\n",
       "      <td>6.142059e+07</td>\n",
       "    </tr>\n",
       "  </tbody>\n",
       "</table>\n",
       "</div>"
      ],
      "text/plain": [
       "       Nitrogen Oxide  Sulphur Dioxide  Carbon Monoxide  Organic Carbon  \\\n",
       "count    2.160000e+02     2.160000e+02     2.160000e+02    2.160000e+02   \n",
       "mean     9.069873e+05     6.696511e+05     4.895853e+06    1.258415e+05   \n",
       "std      6.828572e+06     4.999599e+06     3.742196e+07    9.484717e+05   \n",
       "min      0.000000e+00     0.000000e+00     0.000000e+00    0.000000e+00   \n",
       "25%      1.523491e+04     4.517545e+03     5.066339e+04    1.801762e+03   \n",
       "50%      6.704483e+04     2.961589e+04     3.800947e+05    1.231189e+04   \n",
       "75%      2.065798e+05     1.412795e+05     1.498568e+06    4.229607e+04   \n",
       "max      9.720728e+07     7.165716e+07     5.272669e+08    1.356807e+07   \n",
       "\n",
       "             NMVOCs  Black Carbon       Ammonia  \n",
       "count  2.160000e+02  2.160000e+02  2.160000e+02  \n",
       "mean   1.333006e+06  5.331899e+04  5.725171e+05  \n",
       "std    9.998156e+06  4.030076e+05  4.315137e+06  \n",
       "min    0.000000e+00  0.000000e+00  0.000000e+00  \n",
       "25%    1.758664e+04  7.112250e+02  5.187023e+03  \n",
       "50%    1.331852e+05  4.851995e+03  4.793419e+04  \n",
       "75%    5.005394e+05  1.808434e+04  1.606073e+05  \n",
       "max    1.433979e+08  5.741293e+06  6.142059e+07  "
      ]
     },
     "execution_count": 6,
     "metadata": {},
     "output_type": "execute_result"
    }
   ],
   "source": [
    "df.describe()"
   ]
  },
  {
   "cell_type": "code",
   "execution_count": 7,
   "metadata": {},
   "outputs": [
    {
     "data": {
      "text/plain": [
       "0"
      ]
     },
     "execution_count": 7,
     "metadata": {},
     "output_type": "execute_result"
    }
   ],
   "source": [
    "df.duplicated().sum()"
   ]
  },
  {
   "cell_type": "code",
   "execution_count": 8,
   "metadata": {},
   "outputs": [
    {
     "data": {
      "text/html": [
       "<div>\n",
       "<style scoped>\n",
       "    .dataframe tbody tr th:only-of-type {\n",
       "        vertical-align: middle;\n",
       "    }\n",
       "\n",
       "    .dataframe tbody tr th {\n",
       "        vertical-align: top;\n",
       "    }\n",
       "\n",
       "    .dataframe thead th {\n",
       "        text-align: right;\n",
       "    }\n",
       "</style>\n",
       "<table border=\"1\" class=\"dataframe\">\n",
       "  <thead>\n",
       "    <tr style=\"text-align: right;\">\n",
       "      <th></th>\n",
       "      <th>Nitrogen Oxide</th>\n",
       "      <th>Sulphur Dioxide</th>\n",
       "      <th>Carbon Monoxide</th>\n",
       "      <th>Organic Carbon</th>\n",
       "      <th>NMVOCs</th>\n",
       "      <th>Black Carbon</th>\n",
       "      <th>Ammonia</th>\n",
       "    </tr>\n",
       "  </thead>\n",
       "  <tbody>\n",
       "    <tr>\n",
       "      <th>Nitrogen Oxide</th>\n",
       "      <td>1.000000</td>\n",
       "      <td>0.993595</td>\n",
       "      <td>0.996596</td>\n",
       "      <td>0.987465</td>\n",
       "      <td>0.998269</td>\n",
       "      <td>0.995435</td>\n",
       "      <td>0.995464</td>\n",
       "    </tr>\n",
       "    <tr>\n",
       "      <th>Sulphur Dioxide</th>\n",
       "      <td>0.993595</td>\n",
       "      <td>1.000000</td>\n",
       "      <td>0.987360</td>\n",
       "      <td>0.991194</td>\n",
       "      <td>0.992032</td>\n",
       "      <td>0.994618</td>\n",
       "      <td>0.993172</td>\n",
       "    </tr>\n",
       "    <tr>\n",
       "      <th>Carbon Monoxide</th>\n",
       "      <td>0.996596</td>\n",
       "      <td>0.987360</td>\n",
       "      <td>1.000000</td>\n",
       "      <td>0.986037</td>\n",
       "      <td>0.996586</td>\n",
       "      <td>0.995478</td>\n",
       "      <td>0.993703</td>\n",
       "    </tr>\n",
       "    <tr>\n",
       "      <th>Organic Carbon</th>\n",
       "      <td>0.987465</td>\n",
       "      <td>0.991194</td>\n",
       "      <td>0.986037</td>\n",
       "      <td>1.000000</td>\n",
       "      <td>0.989586</td>\n",
       "      <td>0.996545</td>\n",
       "      <td>0.996041</td>\n",
       "    </tr>\n",
       "    <tr>\n",
       "      <th>NMVOCs</th>\n",
       "      <td>0.998269</td>\n",
       "      <td>0.992032</td>\n",
       "      <td>0.996586</td>\n",
       "      <td>0.989586</td>\n",
       "      <td>1.000000</td>\n",
       "      <td>0.995540</td>\n",
       "      <td>0.994799</td>\n",
       "    </tr>\n",
       "    <tr>\n",
       "      <th>Black Carbon</th>\n",
       "      <td>0.995435</td>\n",
       "      <td>0.994618</td>\n",
       "      <td>0.995478</td>\n",
       "      <td>0.996545</td>\n",
       "      <td>0.995540</td>\n",
       "      <td>1.000000</td>\n",
       "      <td>0.998183</td>\n",
       "    </tr>\n",
       "    <tr>\n",
       "      <th>Ammonia</th>\n",
       "      <td>0.995464</td>\n",
       "      <td>0.993172</td>\n",
       "      <td>0.993703</td>\n",
       "      <td>0.996041</td>\n",
       "      <td>0.994799</td>\n",
       "      <td>0.998183</td>\n",
       "      <td>1.000000</td>\n",
       "    </tr>\n",
       "  </tbody>\n",
       "</table>\n",
       "</div>"
      ],
      "text/plain": [
       "                 Nitrogen Oxide  Sulphur Dioxide  Carbon Monoxide  \\\n",
       "Nitrogen Oxide         1.000000         0.993595         0.996596   \n",
       "Sulphur Dioxide        0.993595         1.000000         0.987360   \n",
       "Carbon Monoxide        0.996596         0.987360         1.000000   \n",
       "Organic Carbon         0.987465         0.991194         0.986037   \n",
       "NMVOCs                 0.998269         0.992032         0.996586   \n",
       "Black Carbon           0.995435         0.994618         0.995478   \n",
       "Ammonia                0.995464         0.993172         0.993703   \n",
       "\n",
       "                 Organic Carbon    NMVOCs  Black Carbon   Ammonia  \n",
       "Nitrogen Oxide         0.987465  0.998269      0.995435  0.995464  \n",
       "Sulphur Dioxide        0.991194  0.992032      0.994618  0.993172  \n",
       "Carbon Monoxide        0.986037  0.996586      0.995478  0.993703  \n",
       "Organic Carbon         1.000000  0.989586      0.996545  0.996041  \n",
       "NMVOCs                 0.989586  1.000000      0.995540  0.994799  \n",
       "Black Carbon           0.996545  0.995540      1.000000  0.998183  \n",
       "Ammonia                0.996041  0.994799      0.998183  1.000000  "
      ]
     },
     "execution_count": 8,
     "metadata": {},
     "output_type": "execute_result"
    }
   ],
   "source": [
    "df.corr()"
   ]
  },
  {
   "cell_type": "code",
   "execution_count": 13,
   "metadata": {},
   "outputs": [
    {
     "data": {
      "text/plain": [
       "(array([214.,   0.,   1.,   0.,   0.,   0.,   0.,   0.,   0.,   1.]),\n",
       " array([       0.  ,  9720728.14, 19441456.28, 29162184.42, 38882912.56,\n",
       "        48603640.7 , 58324368.84, 68045096.98, 77765825.12, 87486553.26,\n",
       "        97207281.4 ]),\n",
       " <a list of 10 Patch objects>)"
      ]
     },
     "execution_count": 13,
     "metadata": {},
     "output_type": "execute_result"
    },
    {
     "data": {
      "image/png": "[encoded data removed]",
      "text/plain": [
       "<Figure size 432x288 with 1 Axes>"
      ]
     },
     "metadata": {
      "needs_background": "light"
     },
     "output_type": "display_data"
    }
   ],
   "source": [
    "import matplotlib.pyplot as plt\n",
    "plt.hist(df['Nitrogen Oxide'], bins=10)"
   ]
  },
  {
   "cell_type": "code",
   "execution_count": null,
   "metadata": {},
   "outputs": [],
   "source": []
  }
 ],
 "metadata": {
  "kernelspec": {
   "display_name": "Python 3",
   "language": "python",
   "name": "python3"
  },
  "language_info": {
   "codemirror_mode": {
    "name": "ipython",
    "version": 3
   },
   "file_extension": ".py",
   "mimetype": "text/x-python",
   "name": "python",
   "nbconvert_exporter": "python",
   "pygments_lexer": "ipython3",
   "version": "3.8.3"
  }
 },
 "nbformat": 4,
 "nbformat_minor": 4
}
